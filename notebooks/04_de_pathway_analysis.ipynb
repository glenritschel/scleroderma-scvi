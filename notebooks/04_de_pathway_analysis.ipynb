{
 "cells": [
  {
   "cell_type": "markdown",
   "id": "8e6271e9",
   "metadata": {},
   "source": [
    "# 04_de_pathway_analysis.ipynb\n",
    "\n",
    "_Use scripts in `src/` or adapt this file._"
   ]
  }
 ],
 "metadata": {},
 "nbformat": 4,
 "nbformat_minor": 5
}
