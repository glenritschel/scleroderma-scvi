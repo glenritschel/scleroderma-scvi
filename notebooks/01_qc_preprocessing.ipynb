{
 "cells": [
  {
   "cell_type": "markdown",
   "id": "5724b826",
   "metadata": {},
   "source": [
    "# 01 — QC & Preprocessing (Systemic Sclerosis Skin)\n",
    "\n",
    "Loads **GSE138669** (multiple `.h5`), performs QC, merges samples, and writes `data/processed/ssc_skin_qc.h5ad`."
   ]
  },
  {
   "cell_type": "code",
   "execution_count": null,
   "id": "e4724d2f",
   "metadata": {},
   "outputs": [],
   "source": [
    "# %pip install scanpy anndata scvi-tools scrublet GEOparse  # if not using conda"
   ]
  },
  {
   "cell_type": "markdown",
   "id": "188a4db1",
   "metadata": {},
   "source": [
    "## 1) Configure paths"
   ]
  },
  {
   "cell_type": "code",
   "execution_count": null,
   "id": "80a636fc",
   "metadata": {},
   "outputs": [],
   "source": [
    "from pathlib import Path\n",
    "RAW=Path('data/raw'); PROC=Path('data/processed'); RAW.mkdir(parents=True,exist_ok=True); PROC.mkdir(parents=True,exist_ok=True)\n",
    "RAW.resolve(), PROC.resolve()"
   ]
  },
  {
   "cell_type": "markdown",
   "id": "d33a98a0",
   "metadata": {},
   "source": [
    "## 2) (Optional) Download GSE138669 via GEOparse"
   ]
  },
  {
   "cell_type": "code",
   "execution_count": null,
   "id": "3a022dca",
   "metadata": {},
   "outputs": [],
   "source": [
    "!python src/data_download.py --geo GSE138669"
   ]
  },
  {
   "cell_type": "markdown",
   "id": "2e6652ba",
   "metadata": {},
   "source": [
    "## 3) Load & merge data from `data/raw/`"
   ]
  },
  {
   "cell_type": "code",
   "execution_count": null,
   "id": "7aaa9cfd",
   "metadata": {},
   "outputs": [],
   "source": [
    "import scanpy as sc, anndata as ad, numpy as np, re\n",
    "from pathlib import Path\n",
    "def load_any_merge(path: Path):\n",
    "    h5s = sorted(path.glob(\"**/*.h5\"))\n",
    "    if h5s:\n",
    "        adatas = []\n",
    "        def sample_name(p):\n",
    "            import re\n",
    "            m = re.match(r\"(GSM\\d+)\", p.stem)\n",
    "            return m.group(1) if m else p.stem\n",
    "        for p in h5s:\n",
    "            print(f\"[info] loading 10x HDF5: {p}\")\n",
    "            ad = sc.read_10x_h5(p)\n",
    "            ad.obs[\"sample\"] = sample_name(p)\n",
    "            adatas.append(ad)\n",
    "        if len(adatas) == 1:\n",
    "            return adatas[0]\n",
    "        return adatas[0].concatenate(*adatas[1:], batch_key=\"sample\", batch_categories=[a.obs[\"sample\"][0] for a in adatas])\n",
    "    h5ads = sorted(path.glob(\"**/*.h5ad\"))\n",
    "    if len(h5ads) > 1:\n",
    "        adatas = []\n",
    "        for p in h5ads:\n",
    "            ad = sc.read_h5ad(p)\n",
    "            ad.obs[\"sample\"] = p.stem\n",
    "            adatas.append(ad)\n",
    "        return adatas[0].concatenate(*adatas[1:], batch_key=\"sample\", batch_categories=[a.obs[\"sample\"][0] for a in adatas])\n",
    "    elif len(h5ads) == 1:\n",
    "        return sc.read_h5ad(h5ads[0])\n",
    "    mtx_dirs = [p for p in path.glob(\"**/*\") if p.is_dir() and (p/'matrix.mtx').exists()]\n",
    "    if mtx_dirs:\n",
    "        return sc.read_10x_mtx(mtx_dirs[0], var_names='gene_symbols', cache=True)\n",
    "    raise FileNotFoundError(\"No supported data found. Place .h5, .h5ad, or a 10x mtx folder under data/raw/.\")\n",
    "adata = load_any_merge(RAW); adata"
   ]
  },
  {
   "cell_type": "markdown",
   "id": "81e6d1a5",
   "metadata": {},
   "source": [
    "## 3a) Discover `.h5` samples and pre-QC counts"
   ]
  },
  {
   "cell_type": "code",
   "execution_count": null,
   "id": "a5a718c5",
   "metadata": {},
   "outputs": [],
   "source": [
    "from pathlib import Path\n",
    "import pandas as pd, scanpy as sc, re\n",
    "RAW = Path('data/raw')\n",
    "def sample_name(p: Path) -> str:\n",
    "    m = re.match(r'(GSM\\d+)', p.stem)\n",
    "    return m.group(1) if m else p.stem\n",
    "h5s = sorted(RAW.glob('**/*.h5'))\n",
    "print(f'Found {len(h5s)} HDF5 files')\n",
    "display(pd.DataFrame({'file': [str(p) for p in h5s], 'sample': [sample_name(p) for p in h5s]}))\n",
    "pre_counts = []\n",
    "for p in h5s:\n",
    "    try:\n",
    "        ad = sc.read_10x_h5(p)\n",
    "        pre_counts.append({'sample': sample_name(p), 'cells_pre_qc': ad.n_obs})\n",
    "    except Exception as e:\n",
    "        pre_counts.append({'sample': sample_name(p), 'cells_pre_qc': None, 'error': str(e)})\n",
    "pre_df = pd.DataFrame(pre_counts).set_index('sample'); display(pre_df)"
   ]
  },
  {
   "cell_type": "markdown",
   "id": "6983d50f",
   "metadata": {},
   "source": [
    "## 4) Basic QC"
   ]
  },
  {
   "cell_type": "code",
   "execution_count": null,
   "id": "1967c94a",
   "metadata": {},
   "outputs": [],
   "source": [
    "adata.var['mt']=adata.var_names.str.upper().str.startswith(('MT-','MT.'))\n",
    "sc.pp.calculate_qc_metrics(adata,qc_vars=['mt'],percent_top=None,inplace=True)\n",
    "keep=(adata.obs['n_genes_by_counts']>=200)&(adata.obs['pct_counts_mt']<=10)\n",
    "adata=adata[keep].copy()\n",
    "sc.pp.filter_genes(adata,min_cells=3)\n",
    "adata.shape"
   ]
  },
  {
   "cell_type": "markdown",
   "id": "0a47decb",
   "metadata": {},
   "source": [
    "## 5) Normalize, log1p, HVGs"
   ]
  },
  {
   "cell_type": "code",
   "execution_count": null,
   "id": "611fcde5",
   "metadata": {},
   "outputs": [],
   "source": [
    "sc.pp.normalize_total(adata,target_sum=1e4)\n",
    "sc.pp.log1p(adata)\n",
    "sc.pp.highly_variable_genes(adata,n_top_genes=4000,flavor='seurat_v3')\n",
    "hvg = adata[:, adata.var['highly_variable']].copy(); hvg"
   ]
  },
  {
   "cell_type": "markdown",
   "id": "f765122f",
   "metadata": {},
   "source": [
    "## 6) Save + Post-QC per-sample counts"
   ]
  },
  {
   "cell_type": "code",
   "execution_count": null,
   "id": "8ff55498",
   "metadata": {},
   "outputs": [],
   "source": [
    "out = PROC/'ssc_skin_qc.h5ad'\n",
    "adata.write(out)\n",
    "print('[done] wrote', out.resolve())\n",
    "import pandas as pd\n",
    "if 'sample' in adata.obs.columns:\n",
    "    post_df = adata.obs['sample'].value_counts().rename('cells_post_qc').to_frame()\n",
    "    display(post_df.sort_index())\n",
    "else:\n",
    "    print(\"[note] 'sample' not present; per-sample counts unavailable.\")"
   ]
  }
 ],
 "metadata": {},
 "nbformat": 4,
 "nbformat_minor": 5
}
