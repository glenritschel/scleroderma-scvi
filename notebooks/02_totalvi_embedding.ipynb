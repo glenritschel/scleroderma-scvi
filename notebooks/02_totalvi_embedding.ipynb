{
 "cells": [
  {
   "cell_type": "markdown",
   "id": "073b93a1",
   "metadata": {},
   "source": [
    "# 02_totalvi_embedding.ipynb\n",
    "\n",
    "_Use scripts in `src/` or adapt this file._"
   ]
  }
 ],
 "metadata": {},
 "nbformat": 4,
 "nbformat_minor": 5
}
